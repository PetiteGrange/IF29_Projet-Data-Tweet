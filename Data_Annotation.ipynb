{
 "cells": [
  {
   "cell_type": "code",
   "execution_count": 79,
   "id": "f563ec03",
   "metadata": {},
   "outputs": [],
   "source": [
    "import numpy as np\n",
    "import pandas as pd\n",
    "import glob\n",
    "import json\n",
    "from pathlib import Path\n",
    "from IPython.display import clear_output"
   ]
  },
  {
   "cell_type": "code",
   "execution_count": 80,
   "id": "c3538de6",
   "metadata": {},
   "outputs": [],
   "source": [
    "def get_full_text(tweet):\n",
    "    \n",
    "    # Case 1: This is a retweet\n",
    "    if 'retweeted_status' in tweet:\n",
    "        retweet = tweet['retweeted_status']\n",
    "        # Case 1a: Retweet of an extended tweet\n",
    "        if 'extended_tweet' in retweet:\n",
    "            return retweet['extended_tweet']['full_text']\n",
    "        # Case 1b: Retweet of a normal tweet\n",
    "        else:\n",
    "            return retweet['text']\n",
    "    \n",
    "    # Case 2: This is a regular extended tweet\n",
    "    if 'extended_tweet' in tweet:\n",
    "        return tweet['extended_tweet']['full_text']\n",
    "    \n",
    "    # Case 3: This is a regular non-extended tweet\n",
    "    return tweet['text']"
   ]
  },
  {
   "cell_type": "code",
   "execution_count": 81,
   "id": "e7abf148",
   "metadata": {},
   "outputs": [],
   "source": [
    "def print_tweet(tweet, j, n_tweets):\n",
    "\n",
    "    print(f\"Tweet {j+1}/{n_tweets}\")\n",
    "\n",
    "    print(f\"Retweet ? : {'retweeted_status' in tweet}\")\n",
    "\n",
    "    print(\"Content of the tweet :\")\n",
    "    print(get_full_text(tweet))\n",
    "    print(\"Time :\")\n",
    "    print(tweet['created_at'])\n",
    "    print(\"Hashtags used :\")\n",
    "    print([d['text'] for d in tweet['entities']['hashtags']])\n",
    "    print(\"Retweets count :\")\n",
    "    print(tweet['retweet_count'])\n",
    "    print(\"favourite count :\")\n",
    "    print(tweet['favorite_count'])\n",
    "    print(\"\\n\")"
   ]
  },
  {
   "cell_type": "code",
   "execution_count": 82,
   "id": "f29e90ba",
   "metadata": {},
   "outputs": [],
   "source": [
    "def show_tweets(user_files, user_ids, i, n_to_annotate):\n",
    "\n",
    "    clear_output()\n",
    "    print(f\"Opening tweets from user {user_ids[i]} ({i+1}/{n_to_annotate})\")\n",
    "\n",
    "    with open(user_files[i], 'r', encoding='utf-8') as f:\n",
    "        tweets = json.load(f)\n",
    "\n",
    "    print(\"User description : \")\n",
    "    print(tweets[0]['user']['description'], \"\\n\")\n",
    "\n",
    "    for j, tweet in enumerate(tweets):\n",
    "        print_tweet(tweet, j, len(tweets))\n"
   ]
  },
  {
   "cell_type": "code",
   "execution_count": 83,
   "id": "9a3ac4c4",
   "metadata": {},
   "outputs": [],
   "source": [
    "def ask_label():\n",
    "    while True:\n",
    "        answer = input(\"Is this user suspicious? (1 = Yes, 0 = No): \").strip()\n",
    "        if answer in ['0', '1']:\n",
    "            return int(answer)\n",
    "        else:\n",
    "            print(\"Please enter 1 (Yes) or 0 (No).\")"
   ]
  },
  {
   "cell_type": "markdown",
   "id": "77cb96be",
   "metadata": {},
   "source": [
    "___"
   ]
  },
  {
   "cell_type": "markdown",
   "id": "191e4791",
   "metadata": {},
   "source": [
    "Get files containing tweets for each user"
   ]
  },
  {
   "cell_type": "code",
   "execution_count": 84,
   "id": "3ff373a4",
   "metadata": {},
   "outputs": [
    {
     "name": "stdout",
     "output_type": "stream",
     "text": [
      "Found 200 files\n"
     ]
    }
   ],
   "source": [
    "user_files = np.array(glob.glob(\"data/user_tweets/*.json\"))\n",
    "user_ids = np.array([Path(file).stem for file in user_files]).astype(np.int64)\n",
    "print(f\"Found {len(user_files)} files\")"
   ]
  },
  {
   "cell_type": "markdown",
   "id": "2d225420",
   "metadata": {},
   "source": [
    "Create empty dataset"
   ]
  },
  {
   "cell_type": "code",
   "execution_count": 85,
   "id": "2ae9cffd",
   "metadata": {},
   "outputs": [],
   "source": [
    "# annotated_df = pd.DataFrame(columns=['user_id', 'suspicious'])\n",
    "# annotated_df.to_csv(\"data/annotated_users.csv\", index=False)"
   ]
  },
  {
   "cell_type": "markdown",
   "id": "a9c88551",
   "metadata": {},
   "source": [
    "Open annotated users dataset"
   ]
  },
  {
   "cell_type": "code",
   "execution_count": 90,
   "id": "128a47d3",
   "metadata": {},
   "outputs": [
    {
     "name": "stdout",
     "output_type": "stream",
     "text": [
      "Already 100 annotated users\n"
     ]
    }
   ],
   "source": [
    "annotated_df = pd.read_csv(\"data/annotated_users.csv\")\n",
    "print(f\"Already {annotated_df.shape[0]} annotated users\")"
   ]
  },
  {
   "cell_type": "markdown",
   "id": "7aef0124",
   "metadata": {},
   "source": [
    "Find ids not annotated yet"
   ]
  },
  {
   "cell_type": "code",
   "execution_count": 87,
   "id": "c5b414ee",
   "metadata": {},
   "outputs": [
    {
     "name": "stdout",
     "output_type": "stream",
     "text": [
      "117 users to annotate\n"
     ]
    }
   ],
   "source": [
    "idx_to_annotate = ~ np.isin(user_ids, annotated_df['user_id'].astype(np.int64))\n",
    "user_files = user_files[idx_to_annotate]\n",
    "user_ids = user_ids[idx_to_annotate]\n",
    "print(f\"{np.sum(idx_to_annotate)} users to annotate\")"
   ]
  },
  {
   "cell_type": "markdown",
   "id": "71370254",
   "metadata": {},
   "source": [
    "View the tweets of some users to annotate them"
   ]
  },
  {
   "cell_type": "markdown",
   "id": "a72e13a5",
   "metadata": {},
   "source": [
    "**Read tweets from user in scrollable view, then click the button for not_suspicious/suspicious**"
   ]
  },
  {
   "cell_type": "code",
   "execution_count": null,
   "id": "c9235af9",
   "metadata": {},
   "outputs": [
    {
     "name": "stdout",
     "output_type": "stream",
     "text": [
      "Annotated 100 users in total\n"
     ]
    }
   ],
   "source": [
    "# Number of users to annotate\n",
    "n_to_annotate = 10\n",
    "\n",
    "for i in range(n_to_annotate):\n",
    "    \n",
    "    show_tweets(user_files, user_ids, i, n_to_annotate)\n",
    "\n",
    "    label = ask_label()\n",
    "    annotated_df = pd.concat([\n",
    "        annotated_df,\n",
    "        pd.DataFrame([{'user_id': user_ids[i], 'suspicious': label}])\n",
    "    ], ignore_index=True)\n",
    "\n",
    "    print(f\"Annotated successfuly user {user_ids[i]}\")\n",
    "\n",
    "clear_output()\n",
    "print(f\"Annotated {annotated_df.shape[0]} users in total\")"
   ]
  },
  {
   "cell_type": "code",
   "execution_count": 89,
   "id": "9b8e76b1",
   "metadata": {},
   "outputs": [],
   "source": [
    "annotated_df.to_csv(\"data/annotated_users.csv\", index=False)"
   ]
  }
 ],
 "metadata": {
  "kernelspec": {
   "display_name": "Python 3",
   "language": "python",
   "name": "python3"
  },
  "language_info": {
   "codemirror_mode": {
    "name": "ipython",
    "version": 3
   },
   "file_extension": ".py",
   "mimetype": "text/x-python",
   "name": "python",
   "nbconvert_exporter": "python",
   "pygments_lexer": "ipython3",
   "version": "3.10.11"
  }
 },
 "nbformat": 4,
 "nbformat_minor": 5
}
