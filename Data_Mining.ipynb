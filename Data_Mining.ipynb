{
 "cells": [
  {
   "cell_type": "code",
   "execution_count": 76,
   "id": "8924443f",
   "metadata": {},
   "outputs": [],
   "source": [
    "import glob\n",
    "import json\n",
    "import pandas as pd\n",
    "import numpy as np\n",
    "import datetime\n",
    "from math import inf"
   ]
  },
  {
   "cell_type": "markdown",
   "id": "25bbfb34",
   "metadata": {},
   "source": [
    "Features to extract :\n",
    "- Average cost of character (# / @) on he whole dataset\n",
    "- Average use of characters (@ / #) for each user (N_usages / N_tweets)\n",
    "- Frequency of tweets published (N_tweets / Delta_t dataset)\n",
    "- Frequency of follow actions (Delta_friends / Delta_t, if positive)"
   ]
  },
  {
   "cell_type": "code",
   "execution_count": 77,
   "id": "05a6a4f8",
   "metadata": {},
   "outputs": [],
   "source": [
    "min_timestamp = inf\n",
    "max_timestamp = 0\n",
    "cost_mention = []\n",
    "cost_hashtag = []\n",
    "N_Tweets = 0"
   ]
  },
  {
   "cell_type": "code",
   "execution_count": 78,
   "id": "5f4460cf",
   "metadata": {},
   "outputs": [
    {
     "name": "stdout",
     "output_type": "stream",
     "text": [
      "Found 2285 files\n"
     ]
    }
   ],
   "source": [
    "data_folder = \"data/Woldcup2008/Tweet Worldcup/raw\"\n",
    "files = glob.glob(f\"{data_folder}/*.json\")\n",
    "print(f\"Found {len(files)} files\")"
   ]
  },
  {
   "cell_type": "code",
   "execution_count": 79,
   "id": "21df9808",
   "metadata": {},
   "outputs": [
    {
     "name": "stdout",
     "output_type": "stream",
     "text": [
      "Opening file 100/2285\n",
      "Opening file 200/2285\n",
      "Opening file 300/2285\n",
      "Opening file 400/2285\n"
     ]
    }
   ],
   "source": [
    "users_dict = {}\n",
    "\n",
    "for i, file in enumerate(files[:500]) :\n",
    "\n",
    "    if i % 100 == 0 and i > 0:\n",
    "        print(f\"Opening file {i}/{len(files)}\")\n",
    "\n",
    "    tweets = []\n",
    "    with open(file, 'r', encoding='utf-8') as f:\n",
    "        for line in f: \n",
    "            tweet = json.loads(line)\n",
    "            tweets.append(tweet)\n",
    "\n",
    "    for tweet in tweets:\n",
    "\n",
    "        # User data\n",
    "\n",
    "        user_id = tweet['user']['id']\n",
    "\n",
    "        # Create the user if not already in the dict\n",
    "        if user_id not in users_dict.keys():\n",
    "            users_dict[user_id] = {\n",
    "                'n_tweets' : 0,\n",
    "                'max_friends' : 0,\n",
    "                'min_friends' : inf,\n",
    "                'n_mention' : 0,\n",
    "                'n_hashtag' : 0,\n",
    "                'total_cost_mention' : 0,\n",
    "                'total_cost_hashtag' : 0\n",
    "            }\n",
    "\n",
    "        # Add the tweet to the user count\n",
    "        users_dict[user_id]['n_tweets'] += 1\n",
    "        users_dict[user_id]['n_mention'] += len(tweet['entities']['user_mentions'])\n",
    "        users_dict[user_id]['n_hashtag'] += len(tweet['entities']['hashtags'])\n",
    "\n",
    "        # Add the cost of mentions\n",
    "        for mention in tweet['entities']['user_mentions']:\n",
    "            users_dict[user_id]['total_cost_mention'] += len(mention['screen_name'])\n",
    "\n",
    "        # Add the cost of hashtags\n",
    "        for hashtag in tweet['entities']['hashtags']:\n",
    "            users_dict[user_id]['total_cost_hashtag'] += len(hashtag['text'])\n",
    "\n",
    "\n",
    "        # Update min and max friends if necessary\n",
    "        n_friends = tweet['user']['friends_count']\n",
    "        if  n_friends > users_dict[user_id]['max_friends']:\n",
    "            users_dict[user_id]['max_friends'] = n_friends\n",
    "\n",
    "        if n_friends < users_dict[user_id]['min_friends']:\n",
    "            users_dict[user_id]['min_friends'] = n_friends\n",
    "\n",
    "\n",
    "        # Global data\n",
    "\n",
    "        \n",
    "        # Get the cost of each #\n",
    "        for hashtag in tweet['entities']['hashtags']:\n",
    "            cost_hashtag.append(len(hashtag['text']))\n",
    "\n",
    "        # Get the cost of each @\n",
    "        for mention in tweet['entities']['user_mentions']:\n",
    "            cost_mention.append(len(mention['screen_name']))\n",
    "\n",
    "        # Update min and max timestamp if necessary\n",
    "        if tweet['current_time'] < min_timestamp:\n",
    "            min_timestamp = tweet['current_time']\n",
    "        elif tweet['current_time'] > max_timestamp:\n",
    "            max_timestamp = tweet['current_time'] "
   ]
  },
  {
   "cell_type": "markdown",
   "id": "f7e2337c",
   "metadata": {},
   "source": [
    "Execution time estimation :\n",
    "- 10 files : 7\"\n",
    "- 100 files : 53\"\n",
    "- 200 files : 1'58\"\n",
    "- 500 files : 5'32\""
   ]
  },
  {
   "cell_type": "code",
   "execution_count": 80,
   "id": "7d836cdb",
   "metadata": {},
   "outputs": [],
   "source": [
    "# Compute the delta time (in microseconds)\n",
    "delta_t = max_timestamp - min_timestamp"
   ]
  },
  {
   "cell_type": "code",
   "execution_count": 81,
   "id": "9750ecc4",
   "metadata": {},
   "outputs": [
    {
     "name": "stdout",
     "output_type": "stream",
     "text": [
      "Total number of # : 1638497\n",
      "Total number of Mentions (@) : 895104\n",
      "First tweet : 2018-06-14 04:14:25.098000\n",
      "Last tweet : 2018-06-16 13:43:00.391000\n"
     ]
    }
   ],
   "source": [
    "print(f\"Total number of # : {len(cost_hashtag)}\")\n",
    "print(f\"Total number of Mentions (@) : {len(cost_mention)}\")\n",
    "print(f\"First tweet : {datetime.datetime.fromtimestamp(min_timestamp / 1000)}\")\n",
    "print(f\"Last tweet : {datetime.datetime.fromtimestamp(max_timestamp / 1000)}\")"
   ]
  },
  {
   "cell_type": "markdown",
   "id": "7a712235",
   "metadata": {},
   "source": [
    "Create dataframe"
   ]
  },
  {
   "cell_type": "code",
   "execution_count": 97,
   "id": "dcc9cb6f",
   "metadata": {},
   "outputs": [
    {
     "data": {
      "text/html": [
       "<div>\n",
       "<style scoped>\n",
       "    .dataframe tbody tr th:only-of-type {\n",
       "        vertical-align: middle;\n",
       "    }\n",
       "\n",
       "    .dataframe tbody tr th {\n",
       "        vertical-align: top;\n",
       "    }\n",
       "\n",
       "    .dataframe thead th {\n",
       "        text-align: right;\n",
       "    }\n",
       "</style>\n",
       "<table border=\"1\" class=\"dataframe\">\n",
       "  <thead>\n",
       "    <tr style=\"text-align: right;\">\n",
       "      <th></th>\n",
       "      <th>user_id</th>\n",
       "      <th>n_tweets</th>\n",
       "      <th>max_friends</th>\n",
       "      <th>min_friends</th>\n",
       "      <th>n_mention</th>\n",
       "      <th>n_hashtag</th>\n",
       "      <th>total_cost_mention</th>\n",
       "      <th>total_cost_hashtag</th>\n",
       "    </tr>\n",
       "  </thead>\n",
       "  <tbody>\n",
       "    <tr>\n",
       "      <th>0</th>\n",
       "      <td>39084553</td>\n",
       "      <td>1</td>\n",
       "      <td>826</td>\n",
       "      <td>826</td>\n",
       "      <td>1</td>\n",
       "      <td>2</td>\n",
       "      <td>14</td>\n",
       "      <td>18</td>\n",
       "    </tr>\n",
       "    <tr>\n",
       "      <th>1</th>\n",
       "      <td>1564678657</td>\n",
       "      <td>1</td>\n",
       "      <td>686</td>\n",
       "      <td>686</td>\n",
       "      <td>0</td>\n",
       "      <td>0</td>\n",
       "      <td>0</td>\n",
       "      <td>0</td>\n",
       "    </tr>\n",
       "    <tr>\n",
       "      <th>2</th>\n",
       "      <td>967244973824339968</td>\n",
       "      <td>1</td>\n",
       "      <td>44</td>\n",
       "      <td>44</td>\n",
       "      <td>1</td>\n",
       "      <td>0</td>\n",
       "      <td>9</td>\n",
       "      <td>0</td>\n",
       "    </tr>\n",
       "    <tr>\n",
       "      <th>3</th>\n",
       "      <td>4872447178</td>\n",
       "      <td>2</td>\n",
       "      <td>3189</td>\n",
       "      <td>3189</td>\n",
       "      <td>2</td>\n",
       "      <td>3</td>\n",
       "      <td>17</td>\n",
       "      <td>30</td>\n",
       "    </tr>\n",
       "    <tr>\n",
       "      <th>4</th>\n",
       "      <td>35628099</td>\n",
       "      <td>1</td>\n",
       "      <td>407</td>\n",
       "      <td>407</td>\n",
       "      <td>2</td>\n",
       "      <td>2</td>\n",
       "      <td>25</td>\n",
       "      <td>11</td>\n",
       "    </tr>\n",
       "  </tbody>\n",
       "</table>\n",
       "</div>"
      ],
      "text/plain": [
       "              user_id  n_tweets  max_friends  min_friends  n_mention  \\\n",
       "0            39084553         1          826          826          1   \n",
       "1          1564678657         1          686          686          0   \n",
       "2  967244973824339968         1           44           44          1   \n",
       "3          4872447178         2         3189         3189          2   \n",
       "4            35628099         1          407          407          2   \n",
       "\n",
       "   n_hashtag  total_cost_mention  total_cost_hashtag  \n",
       "0          2                  14                  18  \n",
       "1          0                   0                   0  \n",
       "2          0                   9                   0  \n",
       "3          3                  17                  30  \n",
       "4          2                  25                  11  "
      ]
     },
     "execution_count": 97,
     "metadata": {},
     "output_type": "execute_result"
    }
   ],
   "source": [
    "users = pd.DataFrame.from_dict(users_dict, orient='index')\n",
    "users = users.reset_index()      \n",
    "users = users.rename(columns={'index': 'user_id'}) \n",
    "users.head()"
   ]
  },
  {
   "cell_type": "code",
   "execution_count": 101,
   "id": "4a063364",
   "metadata": {},
   "outputs": [],
   "source": [
    "users.to_csv('data/users.csv', index=False)"
   ]
  },
  {
   "cell_type": "code",
   "execution_count": 102,
   "id": "ff64f894",
   "metadata": {},
   "outputs": [
    {
     "data": {
      "text/html": [
       "<div>\n",
       "<style scoped>\n",
       "    .dataframe tbody tr th:only-of-type {\n",
       "        vertical-align: middle;\n",
       "    }\n",
       "\n",
       "    .dataframe tbody tr th {\n",
       "        vertical-align: top;\n",
       "    }\n",
       "\n",
       "    .dataframe thead th {\n",
       "        text-align: right;\n",
       "    }\n",
       "</style>\n",
       "<table border=\"1\" class=\"dataframe\">\n",
       "  <thead>\n",
       "    <tr style=\"text-align: right;\">\n",
       "      <th></th>\n",
       "      <th>user_id</th>\n",
       "      <th>n_tweets</th>\n",
       "      <th>max_friends</th>\n",
       "      <th>min_friends</th>\n",
       "      <th>n_mention</th>\n",
       "      <th>n_hashtag</th>\n",
       "      <th>total_cost_mention</th>\n",
       "      <th>total_cost_hashtag</th>\n",
       "    </tr>\n",
       "  </thead>\n",
       "  <tbody>\n",
       "    <tr>\n",
       "      <th>0</th>\n",
       "      <td>39084553</td>\n",
       "      <td>1</td>\n",
       "      <td>826</td>\n",
       "      <td>826</td>\n",
       "      <td>1</td>\n",
       "      <td>2</td>\n",
       "      <td>14</td>\n",
       "      <td>18</td>\n",
       "    </tr>\n",
       "    <tr>\n",
       "      <th>1</th>\n",
       "      <td>1564678657</td>\n",
       "      <td>1</td>\n",
       "      <td>686</td>\n",
       "      <td>686</td>\n",
       "      <td>0</td>\n",
       "      <td>0</td>\n",
       "      <td>0</td>\n",
       "      <td>0</td>\n",
       "    </tr>\n",
       "    <tr>\n",
       "      <th>2</th>\n",
       "      <td>967244973824339968</td>\n",
       "      <td>1</td>\n",
       "      <td>44</td>\n",
       "      <td>44</td>\n",
       "      <td>1</td>\n",
       "      <td>0</td>\n",
       "      <td>9</td>\n",
       "      <td>0</td>\n",
       "    </tr>\n",
       "    <tr>\n",
       "      <th>3</th>\n",
       "      <td>4872447178</td>\n",
       "      <td>2</td>\n",
       "      <td>3189</td>\n",
       "      <td>3189</td>\n",
       "      <td>2</td>\n",
       "      <td>3</td>\n",
       "      <td>17</td>\n",
       "      <td>30</td>\n",
       "    </tr>\n",
       "    <tr>\n",
       "      <th>4</th>\n",
       "      <td>35628099</td>\n",
       "      <td>1</td>\n",
       "      <td>407</td>\n",
       "      <td>407</td>\n",
       "      <td>2</td>\n",
       "      <td>2</td>\n",
       "      <td>25</td>\n",
       "      <td>11</td>\n",
       "    </tr>\n",
       "  </tbody>\n",
       "</table>\n",
       "</div>"
      ],
      "text/plain": [
       "              user_id  n_tweets  max_friends  min_friends  n_mention  \\\n",
       "0            39084553         1          826          826          1   \n",
       "1          1564678657         1          686          686          0   \n",
       "2  967244973824339968         1           44           44          1   \n",
       "3          4872447178         2         3189         3189          2   \n",
       "4            35628099         1          407          407          2   \n",
       "\n",
       "   n_hashtag  total_cost_mention  total_cost_hashtag  \n",
       "0          2                  14                  18  \n",
       "1          0                   0                   0  \n",
       "2          0                   9                   0  \n",
       "3          3                  17                  30  \n",
       "4          2                  25                  11  "
      ]
     },
     "execution_count": 102,
     "metadata": {},
     "output_type": "execute_result"
    }
   ],
   "source": [
    "df = pd.read_csv('data/users.csv')\n",
    "df.head()"
   ]
  }
 ],
 "metadata": {
  "kernelspec": {
   "display_name": "Python 3",
   "language": "python",
   "name": "python3"
  },
  "language_info": {
   "codemirror_mode": {
    "name": "ipython",
    "version": 3
   },
   "file_extension": ".py",
   "mimetype": "text/x-python",
   "name": "python",
   "nbconvert_exporter": "python",
   "pygments_lexer": "ipython3",
   "version": "3.10.11"
  }
 },
 "nbformat": 4,
 "nbformat_minor": 5
}
