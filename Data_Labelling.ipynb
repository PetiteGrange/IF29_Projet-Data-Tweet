{
 "cells": [
  {
   "cell_type": "code",
   "id": "initial_id",
   "metadata": {
    "collapsed": true,
    "ExecuteTime": {
     "end_time": "2025-05-27T09:26:19.436110Z",
     "start_time": "2025-05-27T09:26:19.433729Z"
    }
   },
   "source": [
    "import json\n",
    "from datetime import datetime\n",
    "from pathlib import Path"
   ],
   "outputs": [],
   "execution_count": 60
  },
  {
   "metadata": {},
   "cell_type": "markdown",
   "source": "## 1. Open user tweets",
   "id": "2c43614018696ee0"
  },
  {
   "metadata": {
    "ExecuteTime": {
     "end_time": "2025-05-27T09:26:19.580653Z",
     "start_time": "2025-05-27T09:26:19.484738Z"
    }
   },
   "cell_type": "code",
   "source": [
    "users: dict[str, list[dict]] = {}\n",
    "for file in Path(\"data\", \"user_tweets\").glob(\"*.json\"):\n",
    "    with file.open(\"rb\") as f:\n",
    "        users[file.stem] = [json.loads(line) for line in f]"
   ],
   "id": "ff6b41793a6a2bd7",
   "outputs": [],
   "execution_count": 61
  },
  {
   "metadata": {},
   "cell_type": "markdown",
   "source": "## 2. Looking for the user with the most tweets",
   "id": "6dd3a1639859b745"
  },
  {
   "metadata": {
    "ExecuteTime": {
     "end_time": "2025-05-27T11:34:17.098832Z",
     "start_time": "2025-05-27T11:34:17.096232Z"
    }
   },
   "cell_type": "code",
   "source": [
    "count = 0\n",
    "for user, tweets in users.items():\n",
    "    if len(tweets) > 20:\n",
    "        count = len(tweets)\n",
    "        user_id = user\n",
    "        user_tweets = users[user]"
   ],
   "id": "368a42b3f49c4afb",
   "outputs": [],
   "execution_count": 102
  },
  {
   "metadata": {},
   "cell_type": "markdown",
   "source": "## 3. Looking through the text content of the tweets",
   "id": "56086116c581ed62"
  },
  {
   "metadata": {
    "ExecuteTime": {
     "end_time": "2025-05-27T11:34:18.241373Z",
     "start_time": "2025-05-27T11:34:18.237507Z"
    }
   },
   "cell_type": "code",
   "source": [
    "user_urls = []\n",
    "for i, tweet in enumerate(user_tweets):\n",
    "    print(\"Date d'envoi :\", datetime.strptime(tweet[\"created_at\"], \"%a %b %d %H:%M:%S %z %Y\"))\n",
    "    user_urls.extend([url[\"expanded_url\"] for url in tweet[\"entities\"][\"urls\"]])\n",
    "    print(f\"\\n{tweet['text']}\")\n",
    "    print(\"----------\")\n",
    "print(f\"URLs complètes contenus dans les tweets de l'utilisateur :\\n{user_urls}\")"
   ],
   "id": "9cb06bd52129a2a1",
   "outputs": [
    {
     "name": "stdout",
     "output_type": "stream",
     "text": [
      "Date d'envoi : 2018-06-15 20:41:42+00:00\n",
      "\n",
      "RT @tv3_ghana: 📌WHAT. A. GAME. \n",
      "\n",
      "SUSPENSE. DRAMA. SUSPENSE.\n",
      "\n",
      "🇵🇹 Portugal 3-3 Spain 🇪🇸 \n",
      "\n",
      "⚽️ Cristiano Ronaldo Hat-trick \n",
      "\n",
      "⚽️ Diego Costa Bra…\n",
      "----------\n",
      "Date d'envoi : 2018-06-15 20:41:45+00:00\n",
      "\n",
      "RT @onua951fm: FULL TIME: Portugal 3:3 Spain \n",
      "\n",
      "Ronaldo takes centre stage as Portugal draw.\n",
      "#WorldCup #3sports\n",
      "----------\n",
      "Date d'envoi : 2018-06-15 20:49:17+00:00\n",
      "\n",
      "Only four players have scored in four consecutive #WorldCup tournaments:\n",
      "\n",
      "🇧🇷 Pele\n",
      "🇩🇪 Uwe Seeler\n",
      "🇩🇪 Miroslav Klose… https://t.co/lsgQRQuQ3v\n",
      "----------\n",
      "Date d'envoi : 2018-06-15 20:51:12+00:00\n",
      "\n",
      "How would you describe Ronaldo’s performance tonight? \n",
      "\n",
      "#WorldCup #ConnectSports https://t.co/eYy0QzIDyT\n",
      "----------\n",
      "Date d'envoi : 2018-06-15 20:52:13+00:00\n",
      "\n",
      "At 33 years and 131 days old, Cristiano Ronaldo is the oldest player with a hat trick at the #WorldCup… https://t.co/GYW0JRjQMl\n",
      "----------\n",
      "Date d'envoi : 2018-06-16 09:24:18+00:00\n",
      "\n",
      "Are you ready for Matchday 3?\n",
      "\n",
      "📌 Four #WorldCup games? Some with pre-tournament favourites? On a weekend? Bless the… https://t.co/E83qXkIUUs\n",
      "----------\n",
      "Date d'envoi : 2018-06-16 09:27:01+00:00\n",
      "\n",
      "📌 How are the men to do battle?\n",
      "\n",
      "Here's how #Fra and #aus line-up for their #WorldCup game today? #ConnectSports https://t.co/lXF08fTlNr\n",
      "----------\n",
      "Date d'envoi : 2018-06-16 09:30:31+00:00\n",
      "\n",
      "📌 Nothing like an early morning #WorldCup game to enjoy.\n",
      "\n",
      "In a few minutes, #France will look to get their World Cu… https://t.co/cKLsStacRj\n",
      "----------\n",
      "Date d'envoi : 2018-06-16 09:51:27+00:00\n",
      "\n",
      "📌Australia have won only two of their 13 games at the #WorldCup, against Japan in 2006 (3-1) and Serbia in 2010 (2-… https://t.co/rIzktW16QD\n",
      "----------\n",
      "Date d'envoi : 2018-06-16 09:53:48+00:00\n",
      "\n",
      "📌 Some stats to help you enjoy the game..\n",
      "\n",
      "Australia and France have met four times, with the Aussies winning once,… https://t.co/rZGn3Djvxp\n",
      "----------\n",
      "Date d'envoi : 2018-06-16 11:46:41+00:00\n",
      "\n",
      "RT @onua951fm: Plenty of drama in the first 15 mins of the second half. Australia levels the score.\n",
      "\n",
      "#FRA 1:1 #AUS \n",
      "#WorldCup #3Sports\n",
      "----------\n",
      "Date d'envoi : 2018-06-16 11:47:05+00:00\n",
      "\n",
      "RT @tv3_ghana: 📌 Fortunes to change in second half?\n",
      "\n",
      "#FRA⁠ ⁠ 0-0 #AUS⁠ ⁠ \n",
      "\n",
      "No goals in Kazan so far. France started well, Mbappe, Pogba &amp; G…\n",
      "----------\n",
      "Date d'envoi : 2018-06-16 11:49:47+00:00\n",
      "\n",
      "GOAL! \n",
      "\n",
      "France 🇫🇷 2-1 Australia 🇦🇺 \n",
      "\n",
      "Pogba sends his team forward with a fine goal pinged over the goalkeeper. \n",
      "\n",
      "#ConnectSports #WorldCup\n",
      "----------\n",
      "Date d'envoi : 2018-06-16 11:50:37+00:00\n",
      "\n",
      "RT @onua951fm: The French could be on their way to 3 points. @paulpogba puts them ahead.\n",
      "\n",
      "#FRA 2:1 #AUS \n",
      "#WorldCup #3Sports https://t.co/Xr…\n",
      "----------\n",
      "Date d'envoi : 2018-06-16 11:50:49+00:00\n",
      "\n",
      "RT @3SportsGh: PENALTY TO AUSTRALIA 🇦🇺 \n",
      "\n",
      "#3Sports #WorldCup\n",
      "----------\n",
      "Date d'envoi : 2018-06-16 11:50:54+00:00\n",
      "\n",
      "RT @3SportsGh: GOAL! \n",
      "\n",
      "Jedinak scores the penalty for the Socceroos. \n",
      "\n",
      "#3Sports #WorldCup\n",
      "----------\n",
      "Date d'envoi : 2018-06-16 11:56:08+00:00\n",
      "\n",
      "FULL TIME: #FRA 2:1 #AUS \n",
      "\n",
      "#WorldCup #ConnectSports\n",
      "----------\n",
      "Date d'envoi : 2018-06-16 11:57:52+00:00\n",
      "\n",
      "FULL-TIME!\n",
      "\n",
      "France steal the three points in Group C with a late Paul Pogba goal in a game that will be remembered… https://t.co/LsVgOueHRJ\n",
      "----------\n",
      "Date d'envoi : 2018-06-16 12:46:13+00:00\n",
      "\n",
      "RT @onua951fm: 📌We saw Ronaldo's Portugal🇵🇹 last night, now we get to see Messi and Argentina🇦🇷\n",
      "\n",
      "Here's how both teams line up.\n",
      "#WorldCup #…\n",
      "----------\n",
      "Date d'envoi : 2018-06-16 12:48:31+00:00\n",
      "\n",
      "📌We saw Ronaldo's Portugal🇵🇹 last night, now we get to see Messi and Argentina🇦🇷\n",
      "\n",
      "Here's how both teams line up.… https://t.co/HJ4aJqFt4F\n",
      "----------\n",
      "URLs complètes contenus dans les tweets de l'utilisateur :\n",
      "['https://twitter.com/i/web/status/1007726762225258497', 'https://twitter.com/i/web/status/1007727501139959809', 'https://twitter.com/i/web/status/1007916769225465857', 'https://twitter.com/i/web/status/1007918331628843008', 'https://twitter.com/i/web/status/1007923600211537920', 'https://twitter.com/i/web/status/1007924191453204481', 'https://twitter.com/i/web/status/1007955415005528064', 'https://twitter.com/i/web/status/1007968161738698752']\n"
     ]
    }
   ],
   "execution_count": 103
  },
  {
   "metadata": {},
   "cell_type": "markdown",
   "source": "## 4. Getting all users and going through the links in their tweets",
   "id": "55d763a63b2f2310"
  },
  {
   "metadata": {
    "ExecuteTime": {
     "end_time": "2025-05-27T11:34:26.363873Z",
     "start_time": "2025-05-27T11:34:26.358505Z"
    }
   },
   "cell_type": "code",
   "source": [
    "users_urls: dict[str, list] = {}\n",
    "for user, tweets in users.items():\n",
    "        urls = []\n",
    "        for tweet in tweets:\n",
    "            url = [url[\"expanded_url\"] for url in tweet[\"entities\"][\"urls\"]]\n",
    "            for i, u in enumerate(url):\n",
    "                if u.startswith(\"https://twitter.com\"):\n",
    "                    url.pop(i)\n",
    "            urls.extend(url)\n",
    "        if urls:\n",
    "            users_urls[user] = urls\n",
    "print(users_urls)"
   ],
   "id": "2749f49554d69da1",
   "outputs": [
    {
     "name": "stdout",
     "output_type": "stream",
     "text": [
      "{'127680123': ['https://www.theguardian.com/football/2018/jun/01/alireza-beiranvand-sleeping-rough-world-cup-iran-goalkeeper?CMP=share_btn_tw'], '3300214125': ['https://www.pscp.tv/w/bfZ2tjFkclFla29hWmRiamJ8MU1ueG5aQllRWk54TymkO7spFvA0pZedpF03YiXna-zr24RXRNL-aTJJ-nNb'], '1249811761': ['http://lfc.tv/AHDh'], '3501989602': ['https://bracket2018.mlssoccer.com/#league/standings/1257?code=VMS3Z9HL', 'http://www.arenafanatic.com/matts-sports-corner'], '301954928': ['https://paper.li/CIMAGES/1343516871?edition_id=683cb880-7112-11e8-9cca-0cc47a0d1609', 'https://paper.li/CIMAGES/1343516871?edition_id=92f4e6a0-71db-11e8-9cca-0cc47a0d1609', 'https://paper.li/CIMAGES/1343516871?edition_id=a7e17f40-6fe4-11e8-9cca-0cc47a0d1609', 'https://paper.li/CIMAGES/1343516871?edition_id=1323a400-6f80-11e8-b523-0cc47a0d1609'], '26325975': ['http://lfc.tv/AHDh'], '4773565166': ['http://bit.ly/2ybeeIO'], '2602388304': ['https://9gag.com/gag/azXYZGz?ref=tp'], '2171375114': ['http://bbc.in/2tacD08'], '80986907': ['http://780am.com'], '34395835': ['https://reut.rs/2sWgyOS'], '2330765646': ['http://bit.ly/2lc2DzH'], '2714522821': ['https://www.pscp.tv/w/bfPi9TFBbWp6T3pEbGFlRWV8MW1yR21ucW1ZV3FKeQMpYNR10gBVl1KExVKBgfHPbrjT6DOfjKDVjLTPz6pE'], '817957305173975040': ['http://t.asahi.com/pw3k'], '392411896': ['http://x.ea.com/47700'], '76614123': ['http://lfc.tv/AHDh'], '825411950750347265': ['https://on.rt.com/97mp'], '2871069722': ['http://bit.ly/2JBRztq']}\n"
     ]
    }
   ],
   "execution_count": 104
  }
 ],
 "metadata": {
  "kernelspec": {
   "display_name": "Python 3",
   "language": "python",
   "name": "python3"
  },
  "language_info": {
   "codemirror_mode": {
    "name": "ipython",
    "version": 2
   },
   "file_extension": ".py",
   "mimetype": "text/x-python",
   "name": "python",
   "nbconvert_exporter": "python",
   "pygments_lexer": "ipython2",
   "version": "2.7.6"
  }
 },
 "nbformat": 4,
 "nbformat_minor": 5
}
