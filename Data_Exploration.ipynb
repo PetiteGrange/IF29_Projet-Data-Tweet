{
 "cells": [
  {
   "cell_type": "code",
   "execution_count": 158,
   "id": "ba5320e5",
   "metadata": {},
   "outputs": [],
   "source": [
    "import glob\n",
    "import json\n",
    "import pandas as pd\n",
    "import numpy as np"
   ]
  },
  {
   "cell_type": "code",
   "execution_count": 110,
   "id": "6a5c69ff",
   "metadata": {},
   "outputs": [
    {
     "name": "stdout",
     "output_type": "stream",
     "text": [
      "Found 2285 files\n"
     ]
    }
   ],
   "source": [
    "data_folder = \"data/Woldcup2008/Tweet Worldcup/raw\"\n",
    "files = glob.glob(f\"{data_folder}/*.json\")\n",
    "print(f\"Found {len(files)} files\")"
   ]
  },
  {
   "cell_type": "markdown",
   "id": "8f567270",
   "metadata": {},
   "source": [
    "### Explore the content of the first file"
   ]
  },
  {
   "cell_type": "code",
   "execution_count": 111,
   "id": "70bd1430",
   "metadata": {},
   "outputs": [
    {
     "name": "stdout",
     "output_type": "stream",
     "text": [
      "File containing 1999 tweets\n"
     ]
    }
   ],
   "source": [
    "tweets = []\n",
    "with open(files[0], 'r', encoding='utf-8') as f:\n",
    "    for line in f: \n",
    "        tweet = json.loads(line)\n",
    "        tweets.append(tweet)\n",
    "print(f\"File containing {len(tweets)} tweets\")"
   ]
  },
  {
   "cell_type": "markdown",
   "id": "a72664b2",
   "metadata": {},
   "source": [
    "Explore a few data about one tweet and its author"
   ]
  },
  {
   "cell_type": "code",
   "execution_count": 116,
   "id": "82eb41af",
   "metadata": {},
   "outputs": [],
   "source": [
    "i = 210\n",
    "tweet = tweets[i]"
   ]
  },
  {
   "cell_type": "code",
   "execution_count": 117,
   "id": "893d974e",
   "metadata": {},
   "outputs": [
    {
     "name": "stdout",
     "output_type": "stream",
     "text": [
      "Attributes of the tweet :\n",
      "created_date, current_time, extended_tweet, in_reply_to_status_id_str, in_reply_to_status_id, created_at, in_reply_to_user_id_str, source, retweet_count, retweeted, geo, filter_level, in_reply_to_screen_name, is_quote_status, id_str, in_reply_to_user_id, favorite_count, id, text, place, lang, quote_count, favorited, possibly_sensitive, coordinates, truncated, timestamp_ms, reply_count, entities, display_text_range, contributors, user\n"
     ]
    }
   ],
   "source": [
    "print(\"Attributes of the tweet :\")\n",
    "s = \"\"\n",
    "for key in tweet.keys():\n",
    "    s += key\n",
    "    s += ', '\n",
    "print(s[:-2])"
   ]
  },
  {
   "cell_type": "code",
   "execution_count": 164,
   "id": "ec9c60be",
   "metadata": {},
   "outputs": [
    {
     "data": {
      "text/plain": [
       "'Fri Jun 15 18:45:33 +0000 2018'"
      ]
     },
     "execution_count": 164,
     "metadata": {},
     "output_type": "execute_result"
    }
   ],
   "source": [
    "tweet['created_at']"
   ]
  },
  {
   "cell_type": "code",
   "execution_count": 165,
   "id": "eb58200a",
   "metadata": {},
   "outputs": [
    {
     "data": {
      "text/plain": [
       "1529088334075"
      ]
     },
     "execution_count": 165,
     "metadata": {},
     "output_type": "execute_result"
    }
   ],
   "source": [
    "tweet['current_time']"
   ]
  },
  {
   "cell_type": "code",
   "execution_count": 163,
   "id": "63e70f6c",
   "metadata": {},
   "outputs": [
    {
     "name": "stdout",
     "output_type": "stream",
     "text": [
      "Content of the tweet :\n",
      "🇪🇸 (1) 🇵🇹 (2) Yaelah:(\n",
      "#WorldCup\n",
      "Time :\n",
      "Fri Jun 15 18:45:33 +0000 2018\n",
      "Hashtags used :\n",
      "['WorldCup']\n",
      "Retweets count :\n",
      "0\n",
      "favourite count :\n",
      "0\n"
     ]
    }
   ],
   "source": [
    "print(\"Content of the tweet :\")\n",
    "print(tweet['text'])\n",
    "print(\"Time :\")\n",
    "print(tweet['created_at'])\n",
    "print(\"Hashtags used :\")\n",
    "print([d['text'] for d in tweet['entities']['hashtags']])\n",
    "print(\"Retweets count :\")\n",
    "print(tweet['retweet_count'])\n",
    "print(\"favourite count :\")\n",
    "print(tweet['favorite_count'])"
   ]
  },
  {
   "cell_type": "code",
   "execution_count": 162,
   "id": "ecc35dba",
   "metadata": {},
   "outputs": [
    {
     "name": "stdout",
     "output_type": "stream",
     "text": [
      "User name : SeptioHrd\n",
      "User id : 1469709332\n",
      "Profile description : #IndomanunitedBogor\n",
      "follow me on Instagram : _septiohrdsyh\n",
      "User location : Selangkangan bidadari\n",
      "Followers : 114\n",
      "Following : 315\n"
     ]
    }
   ],
   "source": [
    "user = tweet['user']\n",
    "print(f\"User name : {user['screen_name']}\")\n",
    "print(f\"User id : {user['id']}\")\n",
    "print(f\"Profile description : {user['description']}\")\n",
    "print(f\"User location : {user['location']}\")\n",
    "print(f\"Followers : {user['followers_count']}\")\n",
    "print(f\"Following : {user['friends_count']}\")"
   ]
  },
  {
   "cell_type": "markdown",
   "id": "416c22c1",
   "metadata": {},
   "source": [
    "Get the number of tweets per user"
   ]
  },
  {
   "cell_type": "code",
   "execution_count": 126,
   "id": "143077e9",
   "metadata": {},
   "outputs": [],
   "source": [
    "tweets_count = {}\n",
    "for tweet in tweets:\n",
    "    user_id = tweet['user']['id']\n",
    "    if user_id in tweets_count.keys():\n",
    "        tweets_count[user_id] += 1\n",
    "    else :\n",
    "        tweets_count[user_id] = 1"
   ]
  },
  {
   "cell_type": "code",
   "execution_count": 128,
   "id": "41c2309e",
   "metadata": {},
   "outputs": [
    {
     "name": "stdout",
     "output_type": "stream",
     "text": [
      "Found 1703 unique users\n"
     ]
    }
   ],
   "source": [
    "print(f\"Found {len(tweets_count)} unique users\")"
   ]
  },
  {
   "cell_type": "code",
   "execution_count": null,
   "id": "028da72c",
   "metadata": {},
   "outputs": [
    {
     "name": "stdout",
     "output_type": "stream",
     "text": [
      "Maximum number of tweets per user : 31\n"
     ]
    }
   ],
   "source": [
    "print(f\"Maximum number of tweets per user : {max(tweets_count.values())}\")"
   ]
  },
  {
   "cell_type": "markdown",
   "id": "023b4c50",
   "metadata": {},
   "source": [
    "### Gather information from muliple files"
   ]
  },
  {
   "cell_type": "code",
   "execution_count": 152,
   "id": "12adb487",
   "metadata": {},
   "outputs": [],
   "source": [
    "users = pd.DataFrame(columns=['id', 'n_tweets'])\n",
    "# For testing only open the 10 first files\n",
    "for i, file in enumerate(files[:10]) :\n",
    "\n",
    "    if i % 100 == 0 and i > 0:\n",
    "        print(f\"Opening file {i}/{len(files)}\")\n",
    "\n",
    "    tweets = []\n",
    "    with open(file, 'r', encoding='utf-8') as f:\n",
    "        for line in f: \n",
    "            tweet = json.loads(line)\n",
    "            tweets.append(tweet)\n",
    "\n",
    "    for tweet in tweets:\n",
    "        user_id = tweet['user']['id']\n",
    "        if user_id in users['id'].values:\n",
    "            users.loc[users['id'] == user_id, 'n_tweets'] += 1\n",
    "        else :\n",
    "            users.loc[len(users)] = [user_id, 1]"
   ]
  },
  {
   "cell_type": "markdown",
   "id": "a2b524e6",
   "metadata": {},
   "source": [
    "Create the dataframe from a dict (6 times faster)"
   ]
  },
  {
   "cell_type": "code",
   "execution_count": 155,
   "id": "6391e8c9",
   "metadata": {},
   "outputs": [],
   "source": [
    "users_dict = {}\n",
    "for i, file in enumerate(files[:10]) :\n",
    "\n",
    "    if i % 100 == 0 and i > 0:\n",
    "        print(f\"Opening file {i}/{len(files)}\")\n",
    "\n",
    "    tweets = []\n",
    "    with open(file, 'r', encoding='utf-8') as f:\n",
    "        for line in f: \n",
    "            tweet = json.loads(line)\n",
    "            tweets.append(tweet)\n",
    "\n",
    "    for tweet in tweets:\n",
    "        user_id = tweet['user']['id']\n",
    "        if user_id in users_dict:\n",
    "            users_dict[user_id] += 1\n",
    "        else :\n",
    "            users_dict[user_id] = 1\n",
    "\n",
    "users = pd.DataFrame(list(users_dict.items()), columns=['user_id', 'n_tweets'])"
   ]
  },
  {
   "cell_type": "markdown",
   "id": "799b6b31",
   "metadata": {},
   "source": [
    "Find the user with the highest number of tweets"
   ]
  },
  {
   "cell_type": "code",
   "execution_count": 159,
   "id": "10ffed72",
   "metadata": {},
   "outputs": [
    {
     "data": {
      "text/html": [
       "<div>\n",
       "<style scoped>\n",
       "    .dataframe tbody tr th:only-of-type {\n",
       "        vertical-align: middle;\n",
       "    }\n",
       "\n",
       "    .dataframe tbody tr th {\n",
       "        vertical-align: top;\n",
       "    }\n",
       "\n",
       "    .dataframe thead th {\n",
       "        text-align: right;\n",
       "    }\n",
       "</style>\n",
       "<table border=\"1\" class=\"dataframe\">\n",
       "  <thead>\n",
       "    <tr style=\"text-align: right;\">\n",
       "      <th></th>\n",
       "      <th>user_id</th>\n",
       "      <th>n_tweets</th>\n",
       "    </tr>\n",
       "  </thead>\n",
       "  <tbody>\n",
       "    <tr>\n",
       "      <th>1377</th>\n",
       "      <td>4692009392</td>\n",
       "      <td>50</td>\n",
       "    </tr>\n",
       "  </tbody>\n",
       "</table>\n",
       "</div>"
      ],
      "text/plain": [
       "         user_id  n_tweets\n",
       "1377  4692009392        50"
      ]
     },
     "execution_count": 159,
     "metadata": {},
     "output_type": "execute_result"
    }
   ],
   "source": [
    "users.loc[users['n_tweets'] == users['n_tweets'].max()]"
   ]
  }
 ],
 "metadata": {
  "kernelspec": {
   "display_name": "Python 3",
   "language": "python",
   "name": "python3"
  },
  "language_info": {
   "codemirror_mode": {
    "name": "ipython",
    "version": 3
   },
   "file_extension": ".py",
   "mimetype": "text/x-python",
   "name": "python",
   "nbconvert_exporter": "python",
   "pygments_lexer": "ipython3",
   "version": "3.10.11"
  }
 },
 "nbformat": 4,
 "nbformat_minor": 5
}
